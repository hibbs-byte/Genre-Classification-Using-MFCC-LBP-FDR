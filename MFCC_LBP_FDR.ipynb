{
  "nbformat": 4,
  "nbformat_minor": 0,
  "metadata": {
    "colab": {
      "provenance": []
    },
    "kernelspec": {
      "name": "python3",
      "display_name": "Python 3"
    },
    "language_info": {
      "name": "python"
    }
  },
  "cells": [
    {
      "cell_type": "code",
      "execution_count": 1,
      "metadata": {
        "id": "43qfq5ahllH6"
      },
      "outputs": [],
      "source": [
        "#IMPORTING THE REQUISITE LIBRARIES\n",
        "import librosa\n",
        "import librosa.display\n",
        "import numpy as np\n",
        "import matplotlib.pyplot as plt\n",
        "from skimage.feature import local_binary_pattern\n",
        "from pathlib import Path\n",
        "from tqdm.auto import tqdm\n",
        "import requests, io, os, tarfile\n",
        "import zipfile\n",
        "from skimage.io import imread\n",
        "from skimage.color import rgb2gray\n",
        "from skimage.feature import local_binary_pattern\n",
        "import pandas as pd"
      ]
    },
    {
      "cell_type": "code",
      "source": [
        "#MOUNTING DRIVE\n",
        "from google.colab import drive\n",
        "drive.mount('/content/drive')\n"
      ],
      "metadata": {
        "colab": {
          "base_uri": "https://localhost:8080/"
        },
        "id": "6gD5yZm0mFbB",
        "outputId": "bc0bc426-a409-4c92-dcd3-5920a0f225f9"
      },
      "execution_count": 2,
      "outputs": [
        {
          "output_type": "stream",
          "name": "stdout",
          "text": [
            "Drive already mounted at /content/drive; to attempt to forcibly remount, call drive.mount(\"/content/drive\", force_remount=True).\n"
          ]
        }
      ]
    },
    {
      "cell_type": "code",
      "source": [
        "#FINDING ROOT PATH OF THE FOLDER\n",
        "for root, dirs, files in os.walk('/content/drive/MyDrive'):\n",
        "    audio_files = [f for f in files if f.endswith('.mp3')]\n",
        "    if audio_files:\n",
        "        print(root)\n",
        "        break"
      ],
      "metadata": {
        "colab": {
          "base_uri": "https://localhost:8080/"
        },
        "id": "kNZ8q5_JmO2d",
        "outputId": "82b72c70-081a-4832-f4f1-fef4dcba811b"
      },
      "execution_count": 3,
      "outputs": [
        {
          "output_type": "stream",
          "name": "stdout",
          "text": [
            "/content/drive/MyDrive/Genre_Classification/files_rock\n"
          ]
        }
      ]
    },
    {
      "cell_type": "code",
      "source": [
        "#CREATING A FOLDER FOR ROCK\n",
        "rock_folder = '/content/drive/MyDrive/Genre_Classification/files_rock'\n",
        "files_rockk = [f for f in os.listdir(rock_folder) if f.endswith('.mp3')]"
      ],
      "metadata": {
        "id": "wTv3BGq3ogkS"
      },
      "execution_count": 4,
      "outputs": []
    },
    {
      "cell_type": "code",
      "source": [
        "#CREATING A FOLDER FOR JAZZ\n",
        "jazz_folder='/content/drive/MyDrive/Genre_Classification/files_jazz'\n",
        "files_jazzz = [f for f in os.listdir(jazz_folder) if f.endswith('.mp3')]"
      ],
      "metadata": {
        "id": "pUlafU_lot99"
      },
      "execution_count": 5,
      "outputs": []
    },
    {
      "cell_type": "code",
      "source": [
        "#CREATING A MFCC FOLDER FOR ROCK\n",
        "rock_folder = '/content/drive/MyDrive/Genre_Classification/files_rock'\n",
        "mfcc_plot_folder = os.path.join(rock_folder, 'MFCC_Plots')\n",
        "os.makedirs(mfcc_plot_folder, exist_ok=True)\n"
      ],
      "metadata": {
        "id": "5QGNw2V1pNKf"
      },
      "execution_count": 6,
      "outputs": []
    },
    {
      "cell_type": "code",
      "source": [
        "#CREATING A MFCC FOLDER FOR JAZZ\n",
        "mfcc_plot_folder2 = os.path.join(jazz_folder, 'MFCC_Plots')\n",
        "os.makedirs(mfcc_plot_folder2, exist_ok=True)\n"
      ],
      "metadata": {
        "id": "wFnSlvH63xNg"
      },
      "execution_count": 7,
      "outputs": []
    },
    {
      "cell_type": "code",
      "source": [
        "#PLOTTING MFCC FOR ROCK\n",
        "for file in files_rockk:\n",
        "    filepath = os.path.join(rock_folder, file)\n",
        "    y, sr = librosa.load(filepath)\n",
        "    mfcc = librosa.feature.mfcc(y=y, sr=sr, n_mfcc=13)\n",
        "    plt.figure(figsize=(10, 4))\n",
        "    librosa.display.specshow(mfcc, x_axis='time', sr=sr)\n",
        "    plt.colorbar()\n",
        "    plt.title(f'MFCC - {file}')\n",
        "    plt.tight_layout()\n",
        "    plot_filename = os.path.splitext(file)[0] + '_mfcc.png'\n",
        "    plot_path = os.path.join(mfcc_plot_folder, plot_filename)\n",
        "    plt.savefig(plot_path)\n",
        "    plt.close()\n"
      ],
      "metadata": {
        "id": "wUR_R0cYp0_b"
      },
      "execution_count": 8,
      "outputs": []
    },
    {
      "cell_type": "code",
      "source": [
        "#PLOTTING MFCC FOR ROCK\n",
        "for file in files_jazzz:\n",
        "    filepath = os.path.join(jazz_folder, file)\n",
        "    y, sr = librosa.load(filepath)\n",
        "    mfcc = librosa.feature.mfcc(y=y, sr=sr, n_mfcc=13)\n",
        "    plt.figure(figsize=(10, 4))\n",
        "    librosa.display.specshow(mfcc, x_axis='time', sr=sr)\n",
        "    plt.colorbar()\n",
        "    plt.title(f'MFCC - {file}')\n",
        "    plt.tight_layout()\n",
        "    plot_filename = os.path.splitext(file)[0] + '_mfcc.png'\n",
        "    plot_path = os.path.join(mfcc_plot_folder2, plot_filename)\n",
        "    plt.savefig(plot_path)\n",
        "    plt.close()\n"
      ],
      "metadata": {
        "id": "D7Mcw3v94M_B"
      },
      "execution_count": 9,
      "outputs": []
    },
    {
      "cell_type": "code",
      "source": [
        "#COMPUTING LBP FOR ROCK\n",
        "import os\n",
        "import numpy as np\n",
        "from skimage.io import imread\n",
        "from skimage.color import rgb2gray\n",
        "from skimage.feature import local_binary_pattern\n",
        "import matplotlib.pyplot as plt\n",
        "import pandas as pd\n",
        "\n",
        "radius = 1\n",
        "n_points = 8 * radius\n",
        "method = 'uniform'\n",
        "lbp_matrices_from_images = {}\n",
        "feature_vectors = []\n",
        "for file in os.listdir(mfcc_plot_folder):\n",
        "    i=0\n",
        "    if file.endswith('.png'):\n",
        "        img_path = os.path.join(mfcc_plot_folder, file)\n",
        "        image = imread(img_path)\n",
        "        if image.shape[2] == 4:\n",
        "            image = image[:, :, :3]\n",
        "        gray_image = rgb2gray(image)\n",
        "        #print(gray_image.shape)\n",
        "        gray_uint8 = (gray_image * 255).astype(np.uint8)\n",
        "        lbp_matrix = local_binary_pattern(gray_uint8, n_points, radius, method)\n",
        "        #print(lbp_matrix.shape)\n",
        "        hist, _ = np.histogram(lbp_matrix.ravel(), bins=np.arange(0, lbp_matrix.max() + 2), density=True)\n",
        "        #print(i, hist)\n",
        "        #print(hist.shape)\n",
        "        i+=1\n",
        "        feature_vectors.append(hist)\n",
        "        #lbp_matrices_from_images[file] = lbp_matrix\n",
        "rock_feat = np.array(feature_vectors)\n",
        "print(rock_feat.shape)\n",
        "output_path = '/content/drive/MyDrive/Genre_Classification/rock_lbp2.csv'\n",
        "np.savetxt(output_path, rock_feat, delimiter=',')"
      ],
      "metadata": {
        "id": "_WEylVhLs6vW",
        "colab": {
          "base_uri": "https://localhost:8080/"
        },
        "outputId": "10f38aa6-00e0-447e-9f48-560c4e2bcc54"
      },
      "execution_count": 10,
      "outputs": [
        {
          "output_type": "stream",
          "name": "stdout",
          "text": [
            "(10, 10)\n"
          ]
        }
      ]
    },
    {
      "cell_type": "code",
      "source": [
        "#COMPUTING LBP FOR JAZZ\n",
        "radius = 1\n",
        "n_points = 8 * radius\n",
        "method = 'uniform'\n",
        "lbp_matrices_from_images = {}\n",
        "feature_vectors = []\n",
        "for file in os.listdir(mfcc_plot_folder2):\n",
        "    i=0\n",
        "    if file.endswith('.png'):\n",
        "        img_path = os.path.join(mfcc_plot_folder2, file)\n",
        "        image = imread(img_path)\n",
        "        if image.shape[2] == 4:\n",
        "            image = image[:, :, :3]\n",
        "        gray_image = rgb2gray(image)\n",
        "        #print(gray_image.shape)\n",
        "        gray_uint8 = (gray_image * 255).astype(np.uint8)\n",
        "        lbp_matrix = local_binary_pattern(gray_uint8, n_points, radius, method)\n",
        "        #print(lbp_matrix.shape)\n",
        "        hist, _ = np.histogram(lbp_matrix.ravel(), bins=np.arange(0, lbp_matrix.max() + 2), density=True)\n",
        "        #print(i, hist)\n",
        "        i+=1\n",
        "        feature_vectors.append(hist)\n",
        "        #lbp_matrices_from_images[file] = lbp_matrix\n",
        "jazz_feat = np.array(feature_vectors)\n",
        "print(jazz_feat.shape)\n",
        "output_path = '/content/drive/MyDrive/Genre_Classification/jazz_lbp2.csv'\n",
        "np.savetxt(output_path, jazz_feat, delimiter=',')\n",
        "print(jazz_feat, jazz_feat.shape)"
      ],
      "metadata": {
        "colab": {
          "base_uri": "https://localhost:8080/"
        },
        "id": "b7iup2KW0pFg",
        "outputId": "f46e694f-42be-4d68-ac5e-82a84cbebc95"
      },
      "execution_count": 11,
      "outputs": [
        {
          "output_type": "stream",
          "name": "stdout",
          "text": [
            "(10, 10)\n",
            "[[0.000000e+00 7.535000e-03 2.850000e-04 1.004250e-02 5.700000e-03\n",
            "  2.136125e-01 6.320000e-03 5.800000e-03 6.072550e-01 1.434500e-01]\n",
            " [2.500000e-06 1.597500e-03 7.750000e-05 1.415750e-02 5.025000e-03\n",
            "  2.809625e-01 8.860000e-03 3.340000e-03 6.562950e-01 2.968250e-02]\n",
            " [2.500000e-06 1.862500e-03 1.175000e-04 1.464750e-02 5.110000e-03\n",
            "  2.909225e-01 9.400000e-03 3.377500e-03 6.407875e-01 3.377250e-02]\n",
            " [2.500000e-06 1.455000e-03 8.750000e-05 1.471250e-02 4.645000e-03\n",
            "  2.834175e-01 8.980000e-03 3.132500e-03 6.581275e-01 2.544000e-02]\n",
            " [2.500000e-06 5.175000e-04 6.500000e-05 1.411000e-02 3.777500e-03\n",
            "  2.662350e-01 8.682500e-03 2.805000e-03 6.953500e-01 8.455000e-03]\n",
            " [2.500000e-06 1.702500e-03 1.275000e-04 1.483000e-02 4.767500e-03\n",
            "  2.919625e-01 9.632500e-03 3.030000e-03 6.449400e-01 2.900500e-02]\n",
            " [2.500000e-06 1.272500e-03 8.250000e-05 1.431250e-02 4.667500e-03\n",
            "  2.845950e-01 9.357500e-03 3.200000e-03 6.601200e-01 2.239000e-02]\n",
            " [2.500000e-06 1.085000e-03 7.500000e-05 1.377750e-02 4.407500e-03\n",
            "  2.731775e-01 8.485000e-03 3.092500e-03 6.782300e-01 1.766750e-02]\n",
            " [2.500000e-06 3.150000e-04 6.750000e-05 1.404500e-02 3.615000e-03\n",
            "  2.673725e-01 8.887500e-03 2.650000e-03 6.981950e-01 4.850000e-03]\n",
            " [2.500000e-06 1.425000e-04 6.250000e-05 1.266000e-02 3.792500e-03\n",
            "  2.434375e-01 7.685000e-03 2.710000e-03 7.284175e-01 1.090000e-03]] (10, 10)\n"
          ]
        }
      ]
    },
    {
      "cell_type": "code",
      "source": [
        "#STACKING THE OUTPUT LBP FILES\n",
        "from numpy import genfromtxt\n",
        "rock_data = genfromtxt('/content/drive/MyDrive/Genre_Classification/rock_lbp2.csv', delimiter=',')\n",
        "jazz_data = genfromtxt('/content/drive/MyDrive/Genre_Classification/jazz_lbp2.csv', delimiter=',')\n",
        "X = np.vstack((rock_data, jazz_data))\n",
        "print(X.shape)\n",
        "y = [0]*10 + [1]*10\n",
        "y = np.array(y)\n",
        "print(X.shape, y.shape)\n",
        "print(X, y)"
      ],
      "metadata": {
        "colab": {
          "base_uri": "https://localhost:8080/"
        },
        "id": "JtgFQmKO7j6E",
        "outputId": "276f1e0c-4ebd-4d5c-aa20-05201ee6fb33"
      },
      "execution_count": 12,
      "outputs": [
        {
          "output_type": "stream",
          "name": "stdout",
          "text": [
            "(20, 10)\n",
            "(20, 10) (20,)\n",
            "[[0.000000e+00 8.472500e-03 3.625000e-04 1.112750e-02 5.605000e-03\n",
            "  2.232775e-01 7.027500e-03 5.430000e-03 5.808225e-01 1.578750e-01]\n",
            " [0.000000e+00 3.405000e-03 1.000000e-04 1.626000e-02 5.015000e-03\n",
            "  3.084675e-01 1.039750e-02 3.295000e-03 5.905900e-01 6.247000e-02]\n",
            " [0.000000e+00 3.715000e-03 1.675000e-04 1.622250e-02 5.065000e-03\n",
            "  3.169000e-01 1.099500e-02 2.895000e-03 5.765775e-01 6.746250e-02]\n",
            " [0.000000e+00 4.952500e-03 2.200000e-04 1.555250e-02 5.472500e-03\n",
            "  3.111675e-01 1.035250e-02 3.107500e-03 5.578225e-01 9.135250e-02]\n",
            " [2.500000e-06 4.700000e-03 1.700000e-04 1.557000e-02 5.402500e-03\n",
            "  3.192075e-01 1.086500e-02 3.067500e-03 5.567125e-01 8.430250e-02]\n",
            " [0.000000e+00 4.942500e-03 1.900000e-04 1.535750e-02 5.342500e-03\n",
            "  3.199125e-01 1.109500e-02 2.622500e-03 5.478850e-01 9.265250e-02]\n",
            " [2.500000e-06 6.350000e-03 2.175000e-04 1.424750e-02 5.325000e-03\n",
            "  2.875900e-01 9.577500e-03 3.232500e-03 5.559725e-01 1.174850e-01]\n",
            " [0.000000e+00 5.592500e-03 1.975000e-04 1.574500e-02 5.565000e-03\n",
            "  3.107725e-01 1.067500e-02 3.312500e-03 5.451775e-01 1.029625e-01]\n",
            " [2.500000e-06 6.175000e-03 1.400000e-04 1.456000e-02 5.027500e-03\n",
            "  2.866700e-01 9.975000e-03 3.067500e-03 5.583875e-01 1.159950e-01]\n",
            " [2.500000e-06 6.180000e-03 1.425000e-04 1.454000e-02 4.992500e-03\n",
            "  2.864750e-01 9.965000e-03 3.060000e-03 5.586400e-01 1.160025e-01]\n",
            " [0.000000e+00 7.535000e-03 2.850000e-04 1.004250e-02 5.700000e-03\n",
            "  2.136125e-01 6.320000e-03 5.800000e-03 6.072550e-01 1.434500e-01]\n",
            " [2.500000e-06 1.597500e-03 7.750000e-05 1.415750e-02 5.025000e-03\n",
            "  2.809625e-01 8.860000e-03 3.340000e-03 6.562950e-01 2.968250e-02]\n",
            " [2.500000e-06 1.862500e-03 1.175000e-04 1.464750e-02 5.110000e-03\n",
            "  2.909225e-01 9.400000e-03 3.377500e-03 6.407875e-01 3.377250e-02]\n",
            " [2.500000e-06 1.455000e-03 8.750000e-05 1.471250e-02 4.645000e-03\n",
            "  2.834175e-01 8.980000e-03 3.132500e-03 6.581275e-01 2.544000e-02]\n",
            " [2.500000e-06 5.175000e-04 6.500000e-05 1.411000e-02 3.777500e-03\n",
            "  2.662350e-01 8.682500e-03 2.805000e-03 6.953500e-01 8.455000e-03]\n",
            " [2.500000e-06 1.702500e-03 1.275000e-04 1.483000e-02 4.767500e-03\n",
            "  2.919625e-01 9.632500e-03 3.030000e-03 6.449400e-01 2.900500e-02]\n",
            " [2.500000e-06 1.272500e-03 8.250000e-05 1.431250e-02 4.667500e-03\n",
            "  2.845950e-01 9.357500e-03 3.200000e-03 6.601200e-01 2.239000e-02]\n",
            " [2.500000e-06 1.085000e-03 7.500000e-05 1.377750e-02 4.407500e-03\n",
            "  2.731775e-01 8.485000e-03 3.092500e-03 6.782300e-01 1.766750e-02]\n",
            " [2.500000e-06 3.150000e-04 6.750000e-05 1.404500e-02 3.615000e-03\n",
            "  2.673725e-01 8.887500e-03 2.650000e-03 6.981950e-01 4.850000e-03]\n",
            " [2.500000e-06 1.425000e-04 6.250000e-05 1.266000e-02 3.792500e-03\n",
            "  2.434375e-01 7.685000e-03 2.710000e-03 7.284175e-01 1.090000e-03]] [0 0 0 0 0 0 0 0 0 0 1 1 1 1 1 1 1 1 1 1]\n"
          ]
        }
      ]
    },
    {
      "cell_type": "code",
      "source": [
        "#COMPUTING FDR\n",
        "X1 = X[:10,:]\n",
        "X2 = X[10:,:]\n",
        "print(X1.shape, X2.shape)\n",
        "m1 = np.mean(X1, axis=0)\n",
        "s1 = np.std(X1, axis=0)\n",
        "m2 = np.mean(X2, axis=0)\n",
        "s2 = np.std(X2, axis=0)\n",
        "print(m1.shape, m2.shape, s1.shape, s2.shape)\n",
        "fdr = (m1 - m2) ** 2 / (s1 ** 2 + s2 ** 2 + 1e-6)\n",
        "print(fdr)"
      ],
      "metadata": {
        "colab": {
          "base_uri": "https://localhost:8080/"
        },
        "id": "-UKuKqncAB5b",
        "outputId": "e9620fde-bb50-4738-85c1-a0d9d0ea644b"
      },
      "execution_count": 13,
      "outputs": [
        {
          "output_type": "stream",
          "name": "stdout",
          "text": [
            "(10, 10) (10, 10)\n",
            "(10,) (10,) (10,) (10,)\n",
            "[1.56249678e-06 1.96390398e+00 7.33325029e-03 2.89435228e-01\n",
            " 3.67903101e-01 5.79099979e-01 6.85880648e-01 9.89931519e-06\n",
            " 8.54703244e+00 2.17691795e+00]\n"
          ]
        }
      ]
    },
    {
      "cell_type": "code",
      "source": [
        "#IMPLEMENTING TRAIN TEST SPLIT METHOD\n",
        "from sklearn.model_selection import train_test_split\n",
        "from sklearn.svm import SVC\n",
        "import numpy as np\n",
        "import matplotlib.pyplot as plt\n",
        "\n",
        "fdr_index = np.argsort(fdr)\n",
        "fdr = fdr[::-1]\n",
        "X = X[:, fdr_index]\n",
        "X_train, X_test, y_train, y_test = train_test_split(X, y, test_size=0.2, random_state=42)\n",
        "\n",
        "X_train1 = X_train.copy()\n",
        "X_test1 = X_test.copy()\n",
        "accuracies = []\n",
        "for i in range(1, X_train.shape[1]):\n",
        "    X_train1 = X_train1[:, :i]\n",
        "    X_test1 = X_test1[:, :i]\n",
        "    clf = SVC(kernel='linear')\n",
        "    clf.fit(X_train1, y_train)\n",
        "    y_pred = clf.predict(X_test1)\n",
        "    acc = np.mean(y_pred == y_test)\n",
        "    accuracies.append(acc)\n",
        "print(accuracies)\n",
        "plt.plot(range(1, len(accuracies) + 1), accuracies, marker='o')\n",
        "plt.title('Accuracy vs. Number of Top FDR Features')\n",
        "plt.xlabel('Number of Features')\n",
        "plt.ylabel('Accuracy')\n",
        "plt.grid(True)\n",
        "plt.show()\n"
      ],
      "metadata": {
        "colab": {
          "base_uri": "https://localhost:8080/",
          "height": 489
        },
        "id": "t1my_8T19Pqv",
        "outputId": "5c04793b-e32b-439d-debb-b316326cb682"
      },
      "execution_count": 15,
      "outputs": [
        {
          "output_type": "stream",
          "name": "stdout",
          "text": [
            "[np.float64(1.0), np.float64(1.0), np.float64(1.0), np.float64(1.0), np.float64(1.0), np.float64(1.0), np.float64(1.0), np.float64(1.0), np.float64(1.0)]\n"
          ]
        },
        {
          "output_type": "display_data",
          "data": {
            "text/plain": [
              "<Figure size 640x480 with 1 Axes>"
            ],
            "image/png": "[encoded data removed]"
          },
          "metadata": {}
        }
      ]
    }
  ]
}